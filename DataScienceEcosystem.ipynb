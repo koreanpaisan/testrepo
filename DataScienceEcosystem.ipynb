{
 "cells": [
  {
   "cell_type": "markdown",
   "id": "e4d4f70b-7dcc-41bf-8619-45d2b55ef62e",
   "metadata": {},
   "source": [
    "# Data Science Tools and Ecosystem"
   ]
  },
  {
   "cell_type": "markdown",
   "id": "af6db988-5dc9-46e4-957c-876a90dc5336",
   "metadata": {},
   "source": [
    "In this notebook, Data Science Tools and Ecosystem are summarized."
   ]
  },
  {
   "cell_type": "markdown",
   "id": "f768bb7a-a641-40c2-89b8-ac29a666023c",
   "metadata": {},
   "source": [
    "## Author\n",
    "Michael V. Saraceni\n",
    "\n",
    "**Objectives:**\n",
    "- List data science languages\n",
    "- List data science libraries \n",
    "- Create a table of Data Science tools\n",
    "- Introduce arithmetic expressions"
   ]
  },
  {
   "cell_type": "markdown",
   "id": "d543c2b4-dfc6-494e-afe3-1d70748222fc",
   "metadata": {},
   "source": [
    "Some of the popular languages that Data Scientists use are:\n",
    "1. Python\n",
    "2. R\n",
    "3. SQL\n",
    "4. Julia"
   ]
  },
  {
   "cell_type": "markdown",
   "id": "dab5fab0-f86e-4721-90b8-c7e5e1a92833",
   "metadata": {},
   "source": [
    "Some of the commonly used libraries by Data Scientists include:\n",
    "1. Matplotlib\n",
    "2. Seaborn\n",
    "3. Scikit-learn"
   ]
  },
  {
   "cell_type": "markdown",
   "id": "2945ba83-d95a-4057-b6cd-7253972c4708",
   "metadata": {},
   "source": [
    "| Data Science Tools |\n",
    "| ------ |\n",
    "| Apache Spark |\n",
    "| RStudio |\n",
    "| TensorFlow |\n"
   ]
  },
  {
   "cell_type": "markdown",
   "id": "592c787b-c8c6-42e6-a292-a82f6277705c",
   "metadata": {},
   "source": [
    "### Below are a few examples of evaluating arithmetic expressions in Python"
   ]
  },
  {
   "cell_type": "code",
   "execution_count": 1,
   "id": "6462767c-cb87-4dc9-af68-c92475669b00",
   "metadata": {},
   "outputs": [
    {
     "data": {
      "text/plain": [
       "17"
      ]
     },
     "execution_count": 1,
     "metadata": {},
     "output_type": "execute_result"
    }
   ],
   "source": [
    "# This is a simple arithmetic expression to multiply then add integers\n",
    "(3 * 4) + 5"
   ]
  },
  {
   "cell_type": "code",
   "execution_count": 6,
   "id": "1d97445a-78a6-429e-91f9-6d61474005d6",
   "metadata": {},
   "outputs": [
    {
     "data": {
      "text/plain": [
       "3.3333333333333335"
      ]
     },
     "execution_count": 6,
     "metadata": {},
     "output_type": "execute_result"
    }
   ],
   "source": [
    "# This will convert 200 minutes to hours by dividing by 60\n",
    "200 / 60"
   ]
  },
  {
   "cell_type": "code",
   "execution_count": null,
   "id": "497f5dcf-0a0f-48b6-9301-1ca33b809208",
   "metadata": {},
   "outputs": [],
   "source": []
  }
 ],
 "metadata": {
  "kernelspec": {
   "display_name": "Python 3 (ipykernel)",
   "language": "python",
   "name": "python3"
  },
  "language_info": {
   "codemirror_mode": {
    "name": "ipython",
    "version": 3
   },
   "file_extension": ".py",
   "mimetype": "text/x-python",
   "name": "python",
   "nbconvert_exporter": "python",
   "pygments_lexer": "ipython3",
   "version": "3.12.8"
  }
 },
 "nbformat": 4,
 "nbformat_minor": 5
}
